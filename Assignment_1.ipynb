{
 "cells": [
  {
   "cell_type": "markdown",
   "metadata": {
    "vscode": {
     "languageId": "plaintext"
    }
   },
   "source": [
    "## Importing Libraries"
   ]
  },
  {
   "cell_type": "code",
   "execution_count": 27,
   "metadata": {},
   "outputs": [],
   "source": [
    "from bs4 import BeautifulSoup\n",
    "import json\n",
    "import pandas as pd\n",
    "import csv"
   ]
  },
  {
   "cell_type": "markdown",
   "metadata": {},
   "source": [
    "## Scrapping Data from HTML file  (terrifier 3)"
   ]
  },
  {
   "cell_type": "code",
   "execution_count": 28,
   "metadata": {},
   "outputs": [
    {
     "name": "stderr",
     "output_type": "stream",
     "text": [
      "<>:2: SyntaxWarning: invalid escape sequence '\\S'\n",
      "<>:2: SyntaxWarning: invalid escape sequence '\\S'\n",
      "C:\\Users\\ossam\\AppData\\Local\\Temp\\ipykernel_7612\\169129958.py:2: SyntaxWarning: invalid escape sequence '\\S'\n",
      "  file_path = 'D:\\Semster 7\\Intelligent Recommender Systems\\Assigments\\Assignment 1\\Terrifier 3 - Movie Reviews _ Rotten Tomatoes.html'\n"
     ]
    }
   ],
   "source": [
    "\n",
    "# Load the HTML file\n",
    "file_path = 'D:\\Semster 7\\Intelligent Recommender Systems\\Assigments\\Assignment 1\\Terrifier 3 - Movie Reviews _ Rotten Tomatoes.html'\n",
    "with open(file_path, 'r', encoding='utf-8') as file:\n",
    "    content = file.read()\n",
    "\n",
    "# Parse the HTML content\n",
    "soup = BeautifulSoup(content, 'html.parser')\n",
    "\n",
    "# Extract the data\n",
    "user_data = []\n",
    "for review in soup.find_all('div', class_='audience-review-row'):\n",
    "    \n",
    "    # Extract star rating\n",
    "    star_rating_tag = review.find('rating-stars-group')\n",
    "    star_rating = star_rating_tag['score'] if star_rating_tag else \"N/A\"\n",
    "    \n",
    "    # Append to the list\n",
    "    user_data.append({'Rating': star_rating})\n",
    "\n",
    "# Save to a CSV file\n",
    "df = pd.DataFrame(user_data)\n",
    "df.to_csv('terrifier3_reviews.csv', index=False)\n"
   ]
  },
  {
   "cell_type": "markdown",
   "metadata": {},
   "source": [
    "## Scrapping Data from HTML file  (conclave)"
   ]
  },
  {
   "cell_type": "code",
   "execution_count": 30,
   "metadata": {},
   "outputs": [
    {
     "name": "stderr",
     "output_type": "stream",
     "text": [
      "<>:2: SyntaxWarning: invalid escape sequence '\\S'\n",
      "<>:2: SyntaxWarning: invalid escape sequence '\\S'\n",
      "C:\\Users\\ossam\\AppData\\Local\\Temp\\ipykernel_7612\\2833744039.py:2: SyntaxWarning: invalid escape sequence '\\S'\n",
      "  file_path = 'D:\\Semster 7\\Intelligent Recommender Systems\\Assigments\\Assignment 1\\Conclave - Movie Reviews _ Rotten Tomatoes.html'\n"
     ]
    }
   ],
   "source": [
    "# Load the HTML file\n",
    "file_path = 'D:\\Semster 7\\Intelligent Recommender Systems\\Assigments\\Assignment 1\\Conclave - Movie Reviews _ Rotten Tomatoes.html'\n",
    "with open(file_path, 'r', encoding='utf-8') as file:\n",
    "    content = file.read()\n",
    "\n",
    "# Parse the HTML content\n",
    "soup = BeautifulSoup(content, 'html.parser')\n",
    "\n",
    "# Extract the data\n",
    "user_data = []\n",
    "for review in soup.find_all('div', class_='audience-review-row'):\n",
    "        \n",
    "    # Extract star rating\n",
    "    star_rating_tag = review.find('rating-stars-group')\n",
    "    star_rating = star_rating_tag['score'] if star_rating_tag else \"N/A\"\n",
    "    \n",
    "    # Append to the list\n",
    "    user_data.append({'User': user_name, 'Rating': star_rating})\n",
    "\n",
    "# Save to a CSV file\n",
    "df = pd.DataFrame(user_data)\n",
    "df.to_csv('conclave_reviews.csv', index=False)"
   ]
  },
  {
   "cell_type": "markdown",
   "metadata": {},
   "source": [
    "## Scrapping Data from HTML file  (beetlejuice beetlejuice)"
   ]
  },
  {
   "cell_type": "code",
   "execution_count": 31,
   "metadata": {},
   "outputs": [
    {
     "name": "stderr",
     "output_type": "stream",
     "text": [
      "<>:2: SyntaxWarning: invalid escape sequence '\\S'\n",
      "<>:2: SyntaxWarning: invalid escape sequence '\\S'\n",
      "C:\\Users\\ossam\\AppData\\Local\\Temp\\ipykernel_7612\\2068392404.py:2: SyntaxWarning: invalid escape sequence '\\S'\n",
      "  file_path = 'D:\\Semster 7\\Intelligent Recommender Systems\\Assigments\\Assignment 1\\Beetlejuice Beetlejuice - Movie Reviews _ Rotten Tomatoes.html'\n"
     ]
    }
   ],
   "source": [
    "# Load the HTML file\n",
    "file_path = 'D:\\Semster 7\\Intelligent Recommender Systems\\Assigments\\Assignment 1\\Beetlejuice Beetlejuice - Movie Reviews _ Rotten Tomatoes.html'\n",
    "with open(file_path, 'r', encoding='utf-8') as file:\n",
    "    content = file.read()\n",
    "\n",
    "# Parse the HTML content\n",
    "soup = BeautifulSoup(content, 'html.parser')\n",
    "\n",
    "# Extract the data\n",
    "user_data = []\n",
    "for review in soup.find_all('div', class_='audience-review-row'):\n",
    "    # Extract star rating\n",
    "    star_rating_tag = review.find('rating-stars-group')\n",
    "    star_rating = star_rating_tag['score'] if star_rating_tag else \"N/A\"\n",
    "    \n",
    "    # Append to the list\n",
    "    user_data.append({'User': user_name, 'Rating': star_rating})\n",
    "\n",
    "# Save to a CSV file\n",
    "df = pd.DataFrame(user_data)\n",
    "df.to_csv('beetlejuice_reviews.csv', index=False)"
   ]
  },
  {
   "cell_type": "markdown",
   "metadata": {},
   "source": [
    "## Scrapping Data from HTML file  (Anora)"
   ]
  },
  {
   "cell_type": "code",
   "execution_count": 24,
   "metadata": {},
   "outputs": [
    {
     "name": "stderr",
     "output_type": "stream",
     "text": [
      "<>:2: SyntaxWarning: invalid escape sequence '\\S'\n",
      "<>:2: SyntaxWarning: invalid escape sequence '\\S'\n",
      "C:\\Users\\ossam\\AppData\\Local\\Temp\\ipykernel_7612\\1146849991.py:2: SyntaxWarning: invalid escape sequence '\\S'\n",
      "  file_path = 'D:\\Semster 7\\Intelligent Recommender Systems\\Assigments\\Assignment 1\\Anora - Movie Reviews _ Rotten Tomatoes.html'\n"
     ]
    }
   ],
   "source": [
    "# Load the HTML file\n",
    "file_path = 'D:\\Semster 7\\Intelligent Recommender Systems\\Assigments\\Assignment 1\\Anora - Movie Reviews _ Rotten Tomatoes.html'\n",
    "with open(file_path, 'r', encoding='utf-8') as file:\n",
    "    content = file.read()\n",
    "\n",
    "# Parse the HTML content\n",
    "soup = BeautifulSoup(content, 'html.parser')\n",
    "\n",
    "# Extract the data\n",
    "user_data = []\n",
    "for review in soup.find_all('div', class_='audience-review-row'):\n",
    "    \n",
    "    # Extract star rating\n",
    "    star_rating_tag = review.find('rating-stars-group')\n",
    "    star_rating = star_rating_tag['score'] if star_rating_tag else \"N/A\"\n",
    "    \n",
    "    # Append to the list\n",
    "    user_data.append({'User': user_name, 'Rating': star_rating})\n",
    "\n",
    "# Save to a CSV file\n",
    "df = pd.DataFrame(user_data)\n",
    "df.to_csv('anora_reviews.csv', index=False)"
   ]
  },
  {
   "cell_type": "markdown",
   "metadata": {},
   "source": [
    "## Scrapping Data from HTML file  (Venom-The Last Dance)"
   ]
  },
  {
   "cell_type": "code",
   "execution_count": 32,
   "metadata": {},
   "outputs": [
    {
     "name": "stderr",
     "output_type": "stream",
     "text": [
      "<>:2: SyntaxWarning: invalid escape sequence '\\S'\n",
      "<>:2: SyntaxWarning: invalid escape sequence '\\S'\n",
      "C:\\Users\\ossam\\AppData\\Local\\Temp\\ipykernel_7612\\1145706769.py:2: SyntaxWarning: invalid escape sequence '\\S'\n",
      "  file_path = 'D:\\Semster 7\\Intelligent Recommender Systems\\Assigments\\Assignment 1\\Venom_ The Last Dance - Movie Reviews _ Rotten Tomatoes.html'\n"
     ]
    }
   ],
   "source": [
    "# Load the HTML file\n",
    "file_path = 'D:\\Semster 7\\Intelligent Recommender Systems\\Assigments\\Assignment 1\\Venom_ The Last Dance - Movie Reviews _ Rotten Tomatoes.html'\n",
    "with open(file_path, 'r', encoding='utf-8') as file:\n",
    "    content = file.read()\n",
    "\n",
    "# Parse the HTML content\n",
    "soup = BeautifulSoup(content, 'html.parser')\n",
    "\n",
    "# Extract the data\n",
    "user_data = []\n",
    "for review in soup.find_all('div', class_='audience-review-row'):    \n",
    "    # Extract star rating\n",
    "    star_rating_tag = review.find('rating-stars-group')\n",
    "    star_rating = star_rating_tag['score'] if star_rating_tag else \"N/A\"\n",
    "    \n",
    "    # Append to the list\n",
    "    user_data.append({'User': user_name, 'Rating': star_rating})\n",
    "\n",
    "# Save to a CSV file\n",
    "df = pd.DataFrame(user_data)\n",
    "df.to_csv('venom-the-last-dance.csv', index=False)"
   ]
  },
  {
   "cell_type": "markdown",
   "metadata": {},
   "source": [
    "## Scrapping Data from HTML file  (smile 2)"
   ]
  },
  {
   "cell_type": "code",
   "execution_count": 26,
   "metadata": {},
   "outputs": [
    {
     "name": "stderr",
     "output_type": "stream",
     "text": [
      "<>:2: SyntaxWarning: invalid escape sequence '\\S'\n",
      "<>:2: SyntaxWarning: invalid escape sequence '\\S'\n",
      "C:\\Users\\ossam\\AppData\\Local\\Temp\\ipykernel_7612\\704458306.py:2: SyntaxWarning: invalid escape sequence '\\S'\n",
      "  file_path = 'D:\\Semster 7\\Intelligent Recommender Systems\\Assigments\\Assignment 1\\Smile 2 - Movie Reviews _ Rotten Tomatoes.html'\n"
     ]
    }
   ],
   "source": [
    "# Load the HTML file\n",
    "file_path = 'D:\\Semster 7\\Intelligent Recommender Systems\\Assigments\\Assignment 1\\Smile 2 - Movie Reviews _ Rotten Tomatoes.html'\n",
    "with open(file_path, 'r', encoding='utf-8') as file:\n",
    "    content = file.read()\n",
    "\n",
    "# Parse the HTML content\n",
    "soup = BeautifulSoup(content, 'html.parser')\n",
    "\n",
    "# Extract the data\n",
    "user_data = []\n",
    "for review in soup.find_all('div', class_='audience-review-row'):\n",
    "    \n",
    "    # Extract star rating\n",
    "    star_rating_tag = review.find('rating-stars-group')\n",
    "    star_rating = star_rating_tag['score'] if star_rating_tag else \"N/A\"\n",
    "    \n",
    "    # Append to the list\n",
    "    user_data.append({'Rating': star_rating})\n",
    "\n",
    "# Save to a CSV file\n",
    "df = pd.DataFrame(user_data)\n",
    "df.to_csv('smile2.csv', index=False)"
   ]
  },
  {
   "cell_type": "code",
   "execution_count": 33,
   "metadata": {},
   "outputs": [],
   "source": [
    "import pandas as pd\n",
    "import numpy as np\n",
    "\n",
    "# Sample dataset as provided\n",
    "data = {\n",
    "    'user_id': [1, 2, 3, 4, 5],\n",
    "    'venom-last-dance': [5, 5, np.nan, 4, 3],\n",
    "    'terrifier3': [3, 5, 4, 5, 5],\n",
    "    'smile2': [5, 1, 5, 1, np.nan],\n",
    "    'conclave': [4, np.nan, 3, 1, 4],\n",
    "    'beeteljuice': [4, 5, 2, 4, 5],\n",
    "    'anora': [5, 5, np.nan, 4, 3]\n",
    "}\n",
    "\n",
    "# Convert to DataFrame\n",
    "df = pd.DataFrame(data)\n",
    "df.set_index('user_id', inplace=True)\n",
    "\n",
    "# Fill NaN values (could use mean of columns or rows if needed)\n",
    "df_filled = df.fillna(df.mean())  # This replaces NaNs with column means\n"
   ]
  },
  {
   "cell_type": "code",
   "execution_count": 34,
   "metadata": {},
   "outputs": [],
   "source": [
    "from scipy.spatial.distance import cosine\n",
    "from sklearn.metrics.pairwise import cosine_similarity\n",
    "\n",
    "# User-based cosine similarity\n",
    "user_cosine_sim = pd.DataFrame(cosine_similarity(df_filled), \n",
    "                               index=df.index, columns=df.index)\n",
    "\n",
    "# Item-based cosine similarity\n",
    "item_cosine_sim = pd.DataFrame(cosine_similarity(df_filled.T), \n",
    "                               index=df.columns, columns=df.columns)\n"
   ]
  },
  {
   "cell_type": "code",
   "execution_count": 35,
   "metadata": {},
   "outputs": [],
   "source": [
    "# User-based Pearson correlation\n",
    "user_pearson_corr = df.T.corr(method='pearson')  # Correlation between users\n",
    "\n",
    "# Item-based Pearson correlation\n",
    "item_pearson_corr = df.corr(method='pearson')  # Correlation between items\n"
   ]
  },
  {
   "cell_type": "code",
   "execution_count": 37,
   "metadata": {},
   "outputs": [
    {
     "name": "stdout",
     "output_type": "stream",
     "text": [
      "User-based Cosine Similarity Matrix:\n",
      " user_id         1         2         3         4         5\n",
      "user_id                                                  \n",
      "1        1.000000  0.902973  0.973131  0.857690  0.924274\n",
      "2        0.902973  1.000000  0.868755  0.979858  0.939260\n",
      "3        0.973131  0.868755  1.000000  0.851422  0.901135\n",
      "4        0.857690  0.979858  0.851422  1.000000  0.910000\n",
      "5        0.924274  0.939260  0.901135  0.910000  1.000000 \n",
      "\n",
      "Top recommendations for User 1: []\n"
     ]
    }
   ],
   "source": [
    "import pandas as pd\n",
    "import numpy as np\n",
    "from scipy.spatial.distance import cosine\n",
    "from sklearn.metrics.pairwise import cosine_similarity\n",
    "\n",
    "# Sample dataset as provided\n",
    "data = {\n",
    "    'user_id': [1, 2, 3, 4, 5],\n",
    "    'venom-last-dance': [5, 5, np.nan, 4, 3],\n",
    "    'terrifier3': [3, 5, 4, 5, 5],\n",
    "    'smile2': [5, 1, 5, 1, np.nan],\n",
    "    'conclave': [4, np.nan, 3, 1, 4],\n",
    "    'beeteljuice': [4, 5, 2, 4, 5],\n",
    "    'anora': [5, 5, np.nan, 4, 3]\n",
    "}\n",
    "\n",
    "# Convert to DataFrame\n",
    "df = pd.DataFrame(data)\n",
    "df.set_index('user_id', inplace=True)\n",
    "\n",
    "# Fill NaN values (using column means)\n",
    "df_filled = df.fillna(df.mean())  # This replaces NaNs with column means\n",
    "\n",
    "# Step 2: Calculate User-Based Cosine Similarity\n",
    "user_cosine_sim = pd.DataFrame(cosine_similarity(df_filled), \n",
    "                               index=df.index, columns=df.index)\n",
    "\n",
    "print(\"User-based Cosine Similarity Matrix:\\n\", user_cosine_sim, \"\\n\")\n",
    "\n",
    "# Function to generate user-based recommendations\n",
    "def user_based_recommendations(user_id, df, similarity_matrix, top_n=3):\n",
    "    # Get the similarity scores for the user\n",
    "    sim_scores = similarity_matrix[user_id]\n",
    "    sim_scores = sim_scores.drop(user_id)  # Remove self-similarity\n",
    "    \n",
    "    # Sort users by similarity\n",
    "    similar_users = sim_scores.sort_values(ascending=False)\n",
    "    \n",
    "    # Calculate weighted ratings\n",
    "    user_ratings = df.loc[user_id]\n",
    "    recommendations = {}\n",
    "    \n",
    "    for item in df.columns:\n",
    "        if pd.isna(user_ratings[item]):  # Only recommend items the user hasn't rated\n",
    "            # Compute weighted sum of ratings\n",
    "            weighted_sum = 0\n",
    "            sim_sum = 0\n",
    "            for sim_user, sim_score in similar_users.items():\n",
    "                rating = df.loc[sim_user, item]\n",
    "                if not pd.isna(rating):  # Only add if the user rated this item\n",
    "                    weighted_sum += rating * sim_score\n",
    "                    sim_sum += sim_score\n",
    "            if sim_sum != 0:\n",
    "                recommendations[item] = weighted_sum / sim_sum  # Weighted average\n",
    "    \n",
    "    # Sort recommendations by predicted rating\n",
    "    recommended_items = sorted(recommendations.items(), key=lambda x: x[1], reverse=True)\n",
    "    \n",
    "    return recommended_items[:top_n]  # Return top N recommendations\n",
    "\n",
    "# Example usage\n",
    "user_id = 1  # Replace with the user ID for whom to generate recommendations\n",
    "recommendations = user_based_recommendations(user_id, df_filled, user_cosine_sim)\n",
    "\n",
    "# Output the recommendations\n",
    "print(f\"Top recommendations for User {user_id}: {recommendations}\")\n"
   ]
  }
 ],
 "metadata": {
  "kernelspec": {
   "display_name": "Python 3",
   "language": "python",
   "name": "python3"
  },
  "language_info": {
   "codemirror_mode": {
    "name": "ipython",
    "version": 3
   },
   "file_extension": ".py",
   "mimetype": "text/x-python",
   "name": "python",
   "nbconvert_exporter": "python",
   "pygments_lexer": "ipython3",
   "version": "3.12.5"
  }
 },
 "nbformat": 4,
 "nbformat_minor": 2
}
